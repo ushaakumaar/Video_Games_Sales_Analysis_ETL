{
 "cells": [
  {
   "cell_type": "markdown",
   "metadata": {},
   "source": [
    "# Import Dependencies"
   ]
  },
  {
   "cell_type": "code",
   "execution_count": 1,
   "metadata": {},
   "outputs": [],
   "source": [
    "from bs4 import BeautifulSoup\n",
    "from splinter import Browser\n",
    "import pandas as pd\n",
    "import time"
   ]
  },
  {
   "cell_type": "markdown",
   "metadata": {},
   "source": [
    "# Init Splinter Browser"
   ]
  },
  {
   "cell_type": "code",
   "execution_count": 3,
   "metadata": {},
   "outputs": [],
   "source": [
    "# MAC\n",
    "# executable_path = { 'executable_path': '/usr/local/bin/chromedriver' }\n",
    "# WINDOWS\n",
    "executable_path = {'executable_path': 'chromedriver.exe'}\n",
    "browser = Browser('chrome', **executable_path, headless=True)"
   ]
  },
  {
   "cell_type": "markdown",
   "metadata": {},
   "source": [
    "# Scrape the List of Genre "
   ]
  },
  {
   "cell_type": "code",
   "execution_count": 9,
   "metadata": {},
   "outputs": [
    {
     "data": {
      "text/plain": [
       "['Action',\n",
       " 'Action-Adventure',\n",
       " 'Adventure',\n",
       " 'Board Game',\n",
       " 'Education',\n",
       " 'Fighting',\n",
       " 'Misc',\n",
       " 'MMO',\n",
       " 'Music',\n",
       " 'Party',\n",
       " 'Platform',\n",
       " 'Puzzle',\n",
       " 'Racing',\n",
       " 'Role-Playing',\n",
       " 'Sandbox',\n",
       " 'Shooter',\n",
       " 'Simulation',\n",
       " 'Sports',\n",
       " 'Strategy',\n",
       " 'Visual Novel']"
      ]
     },
     "execution_count": 9,
     "metadata": {},
     "output_type": "execute_result"
    }
   ],
   "source": [
    "# URL to be scraped\n",
    "url = 'https://www.vgchartz.com/gamedb/?page='\n",
    "\n",
    "# Open webpage\n",
    "browser.visit(url)\n",
    "\n",
    "# Retrieve HTML webpage source\n",
    "html = browser.html\n",
    "\n",
    "# Parse HTML webpage source using BeautifulSoup\n",
    "soup = BeautifulSoup(html, 'html.parser')\n",
    "\n",
    "# Scrape the list of genre\n",
    "genre_list = []\n",
    "result_select = soup.find('select', {'name':'genre'})\n",
    "result_options = result_select.find_all('option')\n",
    "for result in result_options:\n",
    "    if result['value'] != '':\n",
    "        genre_list.append(result['value'])\n",
    "genre_list"
   ]
  },
  {
   "cell_type": "markdown",
   "metadata": {},
   "source": [
    "# Scrape Games data for each Genre"
   ]
  },
  {
   "cell_type": "code",
   "execution_count": null,
   "metadata": {},
   "outputs": [],
   "source": []
  }
 ],
 "metadata": {
  "kernelspec": {
   "display_name": "Python [conda env:PythonData] *",
   "language": "python",
   "name": "conda-env-PythonData-py"
  },
  "language_info": {
   "codemirror_mode": {
    "name": "ipython",
    "version": 3
   },
   "file_extension": ".py",
   "mimetype": "text/x-python",
   "name": "python",
   "nbconvert_exporter": "python",
   "pygments_lexer": "ipython3",
   "version": "3.6.10"
  }
 },
 "nbformat": 4,
 "nbformat_minor": 4
}
