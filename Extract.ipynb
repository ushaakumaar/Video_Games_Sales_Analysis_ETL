{
 "cells": [
  {
   "cell_type": "markdown",
   "metadata": {},
   "source": [
    "# Import Dependencies"
   ]
  },
  {
   "cell_type": "code",
   "execution_count": 1,
   "metadata": {},
   "outputs": [],
   "source": [
    "from bs4 import BeautifulSoup\n",
    "from splinter import Browser\n",
    "import pandas as pd\n",
    "import time"
   ]
  },
  {
   "cell_type": "markdown",
   "metadata": {},
   "source": [
    "# Init Splinter Browser"
   ]
  },
  {
   "cell_type": "code",
   "execution_count": 3,
   "metadata": {},
   "outputs": [],
   "source": [
    "# MAC\n",
    "# executable_path = { 'executable_path': '/usr/local/bin/chromedriver' }\n",
    "# WINDOWS\n",
    "executable_path = {'executable_path': 'chromedriver.exe'}\n",
    "browser = Browser('chrome', **executable_path, headless=True)"
   ]
  },
  {
   "cell_type": "markdown",
   "metadata": {},
   "source": [
    "# Scrape the List of Genre "
   ]
  },
  {
   "cell_type": "code",
   "execution_count": 9,
   "metadata": {},
   "outputs": [
    {
     "data": {
      "text/plain": [
       "['Action',\n",
       " 'Action-Adventure',\n",
       " 'Adventure',\n",
       " 'Board Game',\n",
       " 'Education',\n",
       " 'Fighting',\n",
       " 'Misc',\n",
       " 'MMO',\n",
       " 'Music',\n",
       " 'Party',\n",
       " 'Platform',\n",
       " 'Puzzle',\n",
       " 'Racing',\n",
       " 'Role-Playing',\n",
       " 'Sandbox',\n",
       " 'Shooter',\n",
       " 'Simulation',\n",
       " 'Sports',\n",
       " 'Strategy',\n",
       " 'Visual Novel']"
      ]
     },
     "execution_count": 9,
     "metadata": {},
     "output_type": "execute_result"
    }
   ],
   "source": [
    "# URL to be scraped\n",
    "url = 'https://www.vgchartz.com/gamedb/?page='\n",
    "\n",
    "# Open webpage\n",
    "browser.visit(url)\n",
    "\n",
    "# Retrieve HTML webpage source\n",
    "html = browser.html\n",
    "\n",
    "# Parse HTML webpage source using BeautifulSoup\n",
    "soup = BeautifulSoup(html, 'html.parser')\n",
    "\n",
    "# Scrape the list of genre\n",
    "genre_list = []\n",
    "result_select = soup.find('select', {'name':'genre'})\n",
    "result_options = result_select.find_all('option')\n",
    "for result in result_options:\n",
    "    if result['value'] != '':\n",
    "        genre_list.append(result['value'])\n",
    "genre_list"
   ]
  },
  {
   "cell_type": "markdown",
   "metadata": {},
   "source": [
    "# Scrape Games data for each Genre"
   ]
  },
  {
   "cell_type": "code",
   "execution_count": 13,
   "metadata": {},
   "outputs": [
    {
     "name": "stdout",
     "output_type": "stream",
     "text": [
      "https://www.vgchartz.com/games/games.php?page=1&results=200&genre=Action&order=Sales&ownership=Both&direction=DESC&showtotalsales=1&shownasales=1&showpalsales=1&showjapansales=1&showothersales=1&showpublisher=1&showdeveloper=1&showreleasedate=1&showlastupdate=1&showvgchartzscore=1&showcriticscore=1&showuserscore=1&showshipped=1\n",
      "https://www.vgchartz.com/games/games.php?page=1&results=200&genre=Action-Adventure&order=Sales&ownership=Both&direction=DESC&showtotalsales=1&shownasales=1&showpalsales=1&showjapansales=1&showothersales=1&showpublisher=1&showdeveloper=1&showreleasedate=1&showlastupdate=1&showvgchartzscore=1&showcriticscore=1&showuserscore=1&showshipped=1\n",
      "https://www.vgchartz.com/games/games.php?page=1&results=200&genre=Adventure&order=Sales&ownership=Both&direction=DESC&showtotalsales=1&shownasales=1&showpalsales=1&showjapansales=1&showothersales=1&showpublisher=1&showdeveloper=1&showreleasedate=1&showlastupdate=1&showvgchartzscore=1&showcriticscore=1&showuserscore=1&showshipped=1\n",
      "https://www.vgchartz.com/games/games.php?page=1&results=200&genre=Board%20Game&order=Sales&ownership=Both&direction=DESC&showtotalsales=1&shownasales=1&showpalsales=1&showjapansales=1&showothersales=1&showpublisher=1&showdeveloper=1&showreleasedate=1&showlastupdate=1&showvgchartzscore=1&showcriticscore=1&showuserscore=1&showshipped=1\n",
      "https://www.vgchartz.com/games/games.php?page=1&results=200&genre=Education&order=Sales&ownership=Both&direction=DESC&showtotalsales=1&shownasales=1&showpalsales=1&showjapansales=1&showothersales=1&showpublisher=1&showdeveloper=1&showreleasedate=1&showlastupdate=1&showvgchartzscore=1&showcriticscore=1&showuserscore=1&showshipped=1\n",
      "https://www.vgchartz.com/games/games.php?page=1&results=200&genre=Fighting&order=Sales&ownership=Both&direction=DESC&showtotalsales=1&shownasales=1&showpalsales=1&showjapansales=1&showothersales=1&showpublisher=1&showdeveloper=1&showreleasedate=1&showlastupdate=1&showvgchartzscore=1&showcriticscore=1&showuserscore=1&showshipped=1\n",
      "https://www.vgchartz.com/games/games.php?page=1&results=200&genre=Misc&order=Sales&ownership=Both&direction=DESC&showtotalsales=1&shownasales=1&showpalsales=1&showjapansales=1&showothersales=1&showpublisher=1&showdeveloper=1&showreleasedate=1&showlastupdate=1&showvgchartzscore=1&showcriticscore=1&showuserscore=1&showshipped=1\n",
      "https://www.vgchartz.com/games/games.php?page=1&results=200&genre=MMO&order=Sales&ownership=Both&direction=DESC&showtotalsales=1&shownasales=1&showpalsales=1&showjapansales=1&showothersales=1&showpublisher=1&showdeveloper=1&showreleasedate=1&showlastupdate=1&showvgchartzscore=1&showcriticscore=1&showuserscore=1&showshipped=1\n",
      "https://www.vgchartz.com/games/games.php?page=1&results=200&genre=Music&order=Sales&ownership=Both&direction=DESC&showtotalsales=1&shownasales=1&showpalsales=1&showjapansales=1&showothersales=1&showpublisher=1&showdeveloper=1&showreleasedate=1&showlastupdate=1&showvgchartzscore=1&showcriticscore=1&showuserscore=1&showshipped=1\n",
      "https://www.vgchartz.com/games/games.php?page=1&results=200&genre=Party&order=Sales&ownership=Both&direction=DESC&showtotalsales=1&shownasales=1&showpalsales=1&showjapansales=1&showothersales=1&showpublisher=1&showdeveloper=1&showreleasedate=1&showlastupdate=1&showvgchartzscore=1&showcriticscore=1&showuserscore=1&showshipped=1\n",
      "https://www.vgchartz.com/games/games.php?page=1&results=200&genre=Platform&order=Sales&ownership=Both&direction=DESC&showtotalsales=1&shownasales=1&showpalsales=1&showjapansales=1&showothersales=1&showpublisher=1&showdeveloper=1&showreleasedate=1&showlastupdate=1&showvgchartzscore=1&showcriticscore=1&showuserscore=1&showshipped=1\n",
      "https://www.vgchartz.com/games/games.php?page=1&results=200&genre=Puzzle&order=Sales&ownership=Both&direction=DESC&showtotalsales=1&shownasales=1&showpalsales=1&showjapansales=1&showothersales=1&showpublisher=1&showdeveloper=1&showreleasedate=1&showlastupdate=1&showvgchartzscore=1&showcriticscore=1&showuserscore=1&showshipped=1\n",
      "https://www.vgchartz.com/games/games.php?page=1&results=200&genre=Racing&order=Sales&ownership=Both&direction=DESC&showtotalsales=1&shownasales=1&showpalsales=1&showjapansales=1&showothersales=1&showpublisher=1&showdeveloper=1&showreleasedate=1&showlastupdate=1&showvgchartzscore=1&showcriticscore=1&showuserscore=1&showshipped=1\n",
      "https://www.vgchartz.com/games/games.php?page=1&results=200&genre=Role-Playing&order=Sales&ownership=Both&direction=DESC&showtotalsales=1&shownasales=1&showpalsales=1&showjapansales=1&showothersales=1&showpublisher=1&showdeveloper=1&showreleasedate=1&showlastupdate=1&showvgchartzscore=1&showcriticscore=1&showuserscore=1&showshipped=1\n",
      "https://www.vgchartz.com/games/games.php?page=1&results=200&genre=Sandbox&order=Sales&ownership=Both&direction=DESC&showtotalsales=1&shownasales=1&showpalsales=1&showjapansales=1&showothersales=1&showpublisher=1&showdeveloper=1&showreleasedate=1&showlastupdate=1&showvgchartzscore=1&showcriticscore=1&showuserscore=1&showshipped=1\n",
      "https://www.vgchartz.com/games/games.php?page=1&results=200&genre=Shooter&order=Sales&ownership=Both&direction=DESC&showtotalsales=1&shownasales=1&showpalsales=1&showjapansales=1&showothersales=1&showpublisher=1&showdeveloper=1&showreleasedate=1&showlastupdate=1&showvgchartzscore=1&showcriticscore=1&showuserscore=1&showshipped=1\n",
      "https://www.vgchartz.com/games/games.php?page=1&results=200&genre=Simulation&order=Sales&ownership=Both&direction=DESC&showtotalsales=1&shownasales=1&showpalsales=1&showjapansales=1&showothersales=1&showpublisher=1&showdeveloper=1&showreleasedate=1&showlastupdate=1&showvgchartzscore=1&showcriticscore=1&showuserscore=1&showshipped=1\n",
      "https://www.vgchartz.com/games/games.php?page=1&results=200&genre=Sports&order=Sales&ownership=Both&direction=DESC&showtotalsales=1&shownasales=1&showpalsales=1&showjapansales=1&showothersales=1&showpublisher=1&showdeveloper=1&showreleasedate=1&showlastupdate=1&showvgchartzscore=1&showcriticscore=1&showuserscore=1&showshipped=1\n",
      "https://www.vgchartz.com/games/games.php?page=1&results=200&genre=Strategy&order=Sales&ownership=Both&direction=DESC&showtotalsales=1&shownasales=1&showpalsales=1&showjapansales=1&showothersales=1&showpublisher=1&showdeveloper=1&showreleasedate=1&showlastupdate=1&showvgchartzscore=1&showcriticscore=1&showuserscore=1&showshipped=1\n",
      "https://www.vgchartz.com/games/games.php?page=1&results=200&genre=Visual%20Novel&order=Sales&ownership=Both&direction=DESC&showtotalsales=1&shownasales=1&showpalsales=1&showjapansales=1&showothersales=1&showpublisher=1&showdeveloper=1&showreleasedate=1&showlastupdate=1&showvgchartzscore=1&showcriticscore=1&showuserscore=1&showshipped=1\n"
     ]
    }
   ],
   "source": [
    "# Loop and scrape games info for each genre\n",
    "for genre in genre_list:\n",
    "    \n",
    "    # Variable to hold page numbers\n",
    "    page_num = 1\n",
    "    \n",
    "    # Variable to hold if page exists\n",
    "    page_exist = False\n",
    "    \n",
    "    # Build URL to be scraped\n",
    "    url_base = \"https://www.vgchartz.com/games/games.php?\"\n",
    "    url_dyn = f\"page={page_num}&results=200&genre={genre.replace(' ', '%20')}\"\n",
    "    url_tail = \"&order=Sales&ownership=Both&direction=DESC\"\n",
    "    url_tail += \"&showtotalsales=1&shownasales=1&showpalsales=1\"\n",
    "    url_tail += \"&showjapansales=1&showothersales=1&showpublisher=1\"\n",
    "    url_tail += \"&showdeveloper=1&showreleasedate=1&showlastupdate=1\"\n",
    "    url_tail += \"&showvgchartzscore=1&showcriticscore=1&showuserscore=1\"\n",
    "    url_tail += \"&showshipped=1\"\n",
    "    \n",
    "    url = url_base + url_dyn + url_tail\n",
    "    \n",
    "    # Open webpage\n",
    "    browser.visit(url)\n",
    "    \n",
    "    # Retrieve HTML webpage source\n",
    "    html = browser.html\n",
    "    \n",
    "    # Parse HTML webpage source using BeautifulSoup\n",
    "    soup = BeautifulSoup(html, 'html.parser')\n",
    "    \n",
    "    # Logic to check if the page exists\n",
    "    soup_div = soup.find(\"div\", id=\"generalBody\")\n",
    "    page_anchors = soup_div.find(\"tr\").find_all(\"th\")[1].find_all(\"a\")\n",
    "    for a in page_anchors:\n",
    "        if(a.text.find(str(page_num)) > 0):\n",
    "            page_exist = True\n",
    "\n",
    "    while(page_exist):\n",
    "        url_dyn = f\"page={page_num}&results=200&genre={genre.replace(' ', '%20')}\"\n",
    "        url = url_base + url_dyn + url_tail\n",
    "        print(url)\n",
    "        \n",
    "        # Open webpage\n",
    "        browser.visit(url)\n",
    "    \n",
    "        time.sleep(2)\n",
    "        \n",
    "        page_exist = False"
   ]
  },
  {
   "cell_type": "code",
   "execution_count": null,
   "metadata": {},
   "outputs": [],
   "source": []
  }
 ],
 "metadata": {
  "kernelspec": {
   "display_name": "Python [conda env:PythonData] *",
   "language": "python",
   "name": "conda-env-PythonData-py"
  },
  "language_info": {
   "codemirror_mode": {
    "name": "ipython",
    "version": 3
   },
   "file_extension": ".py",
   "mimetype": "text/x-python",
   "name": "python",
   "nbconvert_exporter": "python",
   "pygments_lexer": "ipython3",
   "version": "3.6.10"
  }
 },
 "nbformat": 4,
 "nbformat_minor": 4
}
