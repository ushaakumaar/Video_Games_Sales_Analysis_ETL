{
 "cells": [
  {
   "cell_type": "markdown",
   "metadata": {},
   "source": [
    "# Import Dependencies"
   ]
  },
  {
   "cell_type": "code",
   "execution_count": 1,
   "metadata": {},
   "outputs": [],
   "source": [
    "from bs4 import BeautifulSoup\n",
    "from splinter import Browser\n",
    "import pandas as pd\n",
    "import time"
   ]
  },
  {
   "cell_type": "markdown",
   "metadata": {},
   "source": [
    "# Init Splinter Browser"
   ]
  },
  {
   "cell_type": "code",
   "execution_count": 3,
   "metadata": {},
   "outputs": [],
   "source": [
    "# MAC\n",
    "# executable_path = { 'executable_path': '/usr/local/bin/chromedriver' }\n",
    "# WINDOWS\n",
    "executable_path = {'executable_path': 'chromedriver.exe'}\n",
    "browser = Browser('chrome', **executable_path, headless=True)"
   ]
  },
  {
   "cell_type": "markdown",
   "metadata": {},
   "source": [
    "# Scrape the List of Genre "
   ]
  },
  {
   "cell_type": "code",
   "execution_count": 9,
   "metadata": {},
   "outputs": [
    {
     "data": {
      "text/plain": [
       "['Action',\n",
       " 'Action-Adventure',\n",
       " 'Adventure',\n",
       " 'Board Game',\n",
       " 'Education',\n",
       " 'Fighting',\n",
       " 'Misc',\n",
       " 'MMO',\n",
       " 'Music',\n",
       " 'Party',\n",
       " 'Platform',\n",
       " 'Puzzle',\n",
       " 'Racing',\n",
       " 'Role-Playing',\n",
       " 'Sandbox',\n",
       " 'Shooter',\n",
       " 'Simulation',\n",
       " 'Sports',\n",
       " 'Strategy',\n",
       " 'Visual Novel']"
      ]
     },
     "execution_count": 9,
     "metadata": {},
     "output_type": "execute_result"
    }
   ],
   "source": [
    "# URL to be scraped\n",
    "url = 'https://www.vgchartz.com/gamedb/?page='\n",
    "\n",
    "# Open webpage\n",
    "browser.visit(url)\n",
    "\n",
    "# Retrieve HTML webpage source\n",
    "html = browser.html\n",
    "\n",
    "# Parse HTML webpage source using BeautifulSoup\n",
    "soup = BeautifulSoup(html, 'html.parser')\n",
    "\n",
    "# Scrape the list of genre\n",
    "genre_list = []\n",
    "result_select = soup.find('select', {'name':'genre'})\n",
    "result_options = result_select.find_all('option')\n",
    "for result in result_options:\n",
    "    if result['value'] != '':\n",
    "        genre_list.append(result['value'])\n",
    "genre_list"
   ]
  },
  {
   "cell_type": "markdown",
   "metadata": {},
   "source": [
    "# Scrape Games data for each Genre"
   ]
  },
  {
   "cell_type": "code",
   "execution_count": 18,
   "metadata": {},
   "outputs": [
    {
     "name": "stdout",
     "output_type": "stream",
     "text": [
      "['Series', 'Series', 'Series', 'Series', 'PS3', 'Series', 'PS4', 'PS2', 'PS4', 'PS2', 'X360', 'PS2', 'PC', 'X360', 'PS4', 'PS3', 'Series', 'PS3', 'XOne', 'PS', 'PSP', 'PS3', 'PC', 'PS2', 'Series', 'PS3', 'PS3', 'X360', 'PS', 'PS', 'PS3', 'PS4', 'Wii', 'PS3', 'X360', 'PS3', 'PC', 'X360', 'PS3', 'PSP', 'PS3', 'PS', 'PS3', 'DS', 'X360', 'PS', 'PS2', 'PS', 'PS2', 'PC', 'All', 'PS2', '3DS', 'PS3', 'PS2', 'PS3', 'X360', 'PC', 'PC', 'PS', 'PS4', 'PS4', 'PS4', 'Series', 'PS4', 'Series', 'PS4', 'PS4', 'All', 'Series', 'PS4', 'PC', 'All', 'PS2', 'PS4', 'XOne', 'PS2', 'PS2', 'X360', 'X360', 'PS2', 'X360', 'PS', 'NES', 'PS', 'PC', 'PS', 'PS2', 'PS4', 'GC', 'PS2', 'PS2', 'PS2', 'PSP', 'Series', 'PS4', 'PS2', 'PS', 'PS3', 'X360', 'WiiU', 'PS4', 'XB', 'All', 'PS3', 'NS', 'All', 'Series', 'PS2', 'All', 'PS4', 'PS3', 'PC', 'XOne', 'Wii', 'X360', 'X360', 'PC', 'PS', 'PS2', 'PS4', 'DS', 'PS2', 'N64', 'GEN', 'X360', 'PC', 'PS3', 'XB', 'PS3', 'PS', 'XOne', 'PC', 'PS4', 'Series', 'PS3', 'PS', 'X360', 'PS2', 'PS4', 'X360', 'XOne', 'PS', 'PC', 'PS3', 'All', 'PS2', 'PS3', 'PS2', 'PC', 'NES', 'PS3', '2600', 'PS2', 'PC', 'PS2', 'PSP', 'GBA', 'PS3', 'DS', 'X360', 'PS4', 'PS2', '3DS', 'PS2', 'PS3', 'Wii', 'X360', 'PS', 'X360', '2600', 'PS4', 'PS3', 'XB', 'PS4', 'X360', 'PS3', 'Wii', 'PC', 'PS4', 'DS', 'PC', 'X360', '3DS', 'PS2', 'Series', 'Wii', 'PS', 'PS2', 'XOne', 'PC', 'All', 'PS2', 'PS2', 'PS2', 'GBA', 'X360', 'PS3', 'PC', 'PS4']\n",
      "['Series', 'All', 'Series', 'All', 'Series', 'Series', 'Series', 'Series', 'Series', 'Series', 'Series', 'Series', 'All', 'Series', 'Series', 'Series', 'Series', 'All', 'All', 'Series', 'Series', 'Series', 'PS4', 'Series', 'Series', 'Series', 'Series', 'Series', 'NS', 'Series', 'All', 'Series', 'Series', 'Series', 'Series', 'Series', 'All', 'All', 'Series', 'Series', 'PS4', 'All', 'All', 'Series', 'Series', 'All', 'PS4', 'All', 'All', 'All', 'All', 'All', 'All', 'Series', 'PS4', 'All', 'PC', 'All', 'Series', 'Series', 'All', 'All', 'PS3', 'All', 'All', 'NS', 'All', 'Series', 'All', 'All', 'All', 'All', 'Series', 'All', 'Series', 'All', 'All', 'Series', 'Series', 'PS3', 'All', 'All', 'All', 'All', 'XOne', 'Series', 'X360', 'Series', 'Series', 'All', 'All', 'PS4', 'Series', 'Series', 'All', 'Series', 'PC', 'All', 'Series', 'NS', 'PS4', 'All', 'All', 'All', 'All', 'All', 'Series', 'Series', 'PS3', 'All', 'All', 'All', 'Series', 'Series', 'All', 'Series', 'X360', '3DS', 'Series', 'PS4', 'PS4', 'All', 'Series', 'All', 'PS4', 'NS', 'All', 'Series', 'Series', 'PC', 'All', 'PS4', 'All', 'All', 'All', 'All', 'All', 'All', 'All', 'All', 'X360', 'PS3', 'PC', 'WiiU', 'PC', 'PS4', 'All', 'Series', 'All', 'All', 'All', 'All', 'PS4', 'All', 'All', 'X360', 'PC', 'PS3', 'PS4', 'WiiU', 'X360', 'Series', 'XOne', 'All', 'PS4', 'XOne', 'All', 'Series', 'PC', 'Wii', 'All', 'All', 'PC', 'XOne', 'All', 'X360', 'PS4', 'All', 'All', 'PS4', 'X360', 'PS3', 'PS4', 'PS4', 'PC', 'WiiU', 'X360', 'XOne', 'All', 'All', 'All', 'PS3', 'PS3', 'XOne', 'XOne', 'Series', 'Series', 'PC', 'PS4', 'All']\n",
      "['Series', 'Series', 'Series', 'N64', 'Wii', 'NES', '3DS', 'PC', '3DS', 'PS', 'Series', 'DS', 'SNES', 'PC', 'DS', 'GC', 'NES', '3DS', 'GBC', 'DS', 'GB', 'X360', 'Wii', 'PS', 'X360', 'N64', 'PS', 'PS3', 'PS4', 'DS', 'Wii', 'DS', 'DS', 'PS3', 'DS', 'PC', 'PC', 'GBA', 'X360', 'NES', 'PS2', 'X360', 'PC', 'Wii', 'GBA', 'Wii', 'DS', 'PC', 'PS2', 'GBC', 'DS', 'PS2', 'PS3', 'PS4', 'DS', 'GBA', 'PS', 'PS', 'GBC', 'PS4', 'GBC', 'GC', 'GBA', 'PS', 'GB', 'PS3', 'GBA', 'PS2', 'DS', 'GBA', 'PS', 'PC', 'X360', 'DS', 'DS', 'DS', 'PSV', 'DS', 'GC', 'SNES', 'Wii', 'PS2', 'PS3', 'Wii', '3DS', 'PS3', 'DS', 'PS', 'PS3', '2600', 'PSP', 'PS2', 'PS3', 'Wii', 'PS2', 'X360', 'DC', 'PS2', 'DS', 'PS', 'PSP', 'DS', 'PC', 'PS2', 'PS2', 'Wii', 'PS4', 'PSP', 'PS3', 'DS', 'X360', 'Wii', 'PC', 'Wii', 'PS', 'PS3', 'DS', 'X360', 'PS2', 'PC', 'X360', 'PC', 'XOne', 'PC', 'DS', 'PSP', 'Wii', 'PS2', 'PS2', 'XB', 'DS', 'DS', 'PC', 'PS3', 'PS3', 'GBA', 'Wii', 'PS4', 'PC', 'DS', 'GBA', 'DS', 'PS', 'PS', 'PS', 'PSP', 'PS3', '3DS', 'SNES', 'GC', 'PC', 'XB', 'X360', 'DS', 'XOne', 'GBA', 'X360', 'Wii', 'PC', 'PS3', 'DS', 'DS', 'PS2', 'PS2', 'PSP', 'DS', 'PC', 'DS', 'GBA', 'GC', 'PS2', 'GBA', 'DS', 'GBA', 'DS', 'PS2', 'PS', 'PS4', 'DS', 'DS', 'PC', 'X360', 'PS2', 'DS', 'PC', 'DS', 'Wii', 'PS', 'PC', 'GBA', 'Wii', 'PS4', 'DS', 'Wii', 'PC', 'PS', 'PC', 'PSP', 'PS3', 'PS2']\n",
      "['Series', 'NS', 'X360', 'NS', 'NS', 'NS', 'NS', 'CD32', 'PC', 'XOne', 'NS', 'NS', 'NS', 'NS', 'NS', 'NS', 'NS', 'NS', 'NES']\n",
      "['Series', 'PC', 'PC', '3DS', 'PC', 'PC', 'PC', 'PC', 'PC', 'PC', 'MSD', 'XOne', 'PS4', 'PC', 'NS', 'PC', 'NS', 'WiiU', 'WiiU', 'WiiU']\n",
      "['Series', 'Series', 'Series', 'Series', 'Series', 'NS', 'Series', 'Series', 'Series', 'Wii', 'All', 'Series', 'Series', 'Series', '3DS', 'All', 'PS', 'All', 'GC', 'SNES', 'PS2', 'All', 'All', 'All', 'PS', 'N64', 'WiiU', 'All', 'All', 'PS3', 'SNES', 'PS2', 'PS', 'All', 'PS4', 'PS2', 'PS2', 'PSP', 'PS', 'SNES', 'PS', 'PS3', 'NES', 'All', 'All', 'All', 'PS2', 'X360', 'PS2', 'PS2', 'PS3', 'PS2', 'PS2', 'PS', 'PS4', 'GEN', 'PS2', 'PS2', 'PS2', 'All', 'PS2', 'PS4', 'NES', 'GEN', 'NS', 'N64', 'PS2', 'All', 'All', 'PS4', 'PS4', 'X360', 'X360', 'PS3', 'XB', 'PC', 'PS2', 'All', 'All', 'SNES', 'PS2', 'X360', 'PS2', 'SNES', 'SAT', 'PSP', 'All', 'All', 'PS2', 'PS', 'All', 'PS3', 'PS', 'PS2', 'XOne', 'PS4', 'X360', 'N64', 'PS', 'PS2', 'PS3', 'PS2', 'GEN', 'All', 'PS', 'PS2', 'PS3', 'X360', 'SNES', 'PS', 'PS3', 'PS', 'GC', 'All', 'PS2', 'All', 'All', 'N64', 'PS3', 'N64', 'PS2', 'X360', 'PS', 'PS', 'SNES', 'PS3', 'X360', 'PS2', 'PS3', 'X360', 'PS', 'X360', 'All', 'PS4', 'All', 'PS3', 'GEN', 'N64', 'PS3', 'X360', '3DS', 'PS3', 'X360', 'PS', 'X360', 'PS3', 'All', 'PS', 'PS2', 'SNES', 'PS3', 'PSP', 'PC', 'PS3', 'PS3', 'PS', 'NS', 'PSP', 'PS3', 'X360', 'Wii', 'PS3', 'X360', 'PS4', 'All', 'PS3', 'PS3', 'GBA', 'X360', 'SAT', 'PS2', 'PS3', 'PS2', 'PS3', 'NES', 'X360', 'GC', 'PS3', 'Wii', 'PS3', 'Wii', 'PS3', 'PS2', 'X360', 'All', 'All', 'All', 'WiiU', 'PS', 'PS', 'XB', 'PS3', 'PS4', 'PS2', 'Wii', 'PS4', 'N64', 'XB', 'PS3', 'N64']\n",
      "['Series', 'PC', 'Wii', 'DS', 'PC', 'DS', 'X360', 'Wii', 'Wii', 'DS', 'Wii', 'PS4', 'DS', 'PS3', 'NS', 'XOne', 'GBC', 'PC', 'Wii', 'PS2', 'PS2', 'Wii', 'X360', 'Wii', 'PC', 'Wii', 'GBA', 'PC', 'Wii', 'PS', 'PS2', 'PS2', 'DS', 'PS', 'DS', 'Wii', 'DS', 'PS', 'Wii', 'DS', 'DS', 'PC', 'PC', 'PC', 'N64', 'X360', 'Wii', 'DS', 'Wii', 'N64', 'X360', 'PSV', 'GC', 'Wii', 'PC', 'PS2', 'PS3', 'DS', 'SNES', 'WiiU', 'PS3', 'Wii', 'X360', 'X360', 'GB', 'GC', 'PS4', 'PC', 'NES', 'Wii', 'GC', 'Wii', 'DS', 'Wii', 'X360', 'PC', 'X360', 'PC', 'PS3', 'PS', 'N64', 'Wii', 'Wii', 'Wii', 'PS2', 'PS2', 'NES', 'Wii', 'GBA', 'PS2', 'PC', 'PS2', 'PS2', 'PS2', 'DS', 'Wii', 'GBA', 'DS', 'Wii', 'PS', 'PS2', 'DS', 'Wii', 'GC', 'Wii', 'GC', 'PS3', 'PS2', 'PS3', 'PS', 'DS', 'DS', 'DS', 'PC', 'Wii', 'DS', 'Wii', 'X360', 'PS', 'PC', 'PS3', 'PS2', 'X360', 'PC', 'Wii', 'WiiU', 'PS2', 'NES', 'N64', 'PSP', 'PS2', 'DS', 'Wii', 'Wii', 'Wii', 'DS', 'PC', 'PS', 'GBA', 'PS2', 'Wii', 'PS2', 'X360', 'NS', 'X360', 'PS2', 'Wii', 'Wii', 'GB', 'Wii', 'X360', 'PS', 'X360', 'X360', 'PS', 'GB', 'GB', 'XB', 'Wii', 'GBA', 'Wii', 'GC', 'PS2', 'DS', 'PS4', 'X360', 'X360', 'PS3', 'PS', 'PS3', 'DS', 'PS3', 'PS2', 'PS2', 'PS2', 'DS', 'PS2', 'PS2', 'PS3', 'PS3', 'X360', 'PS3', 'PSP', 'PC', 'PS', 'PS3', 'PS', 'PS3', 'PC', 'PS3', 'Wii', 'DS', 'Wii', 'DS', 'PS2', 'NS', 'GB', 'PS2', 'PS3', 'PS']\n",
      "['Series', 'Series', 'PC', 'PC', 'PC', 'PC', 'PC', 'PC', 'PC', 'PC', 'PS4', 'PC', 'XOne', 'PC', 'PC', 'Wii', 'PS3', 'PS4', 'PS3', 'WiiU', 'PS2', 'PS4', 'PC', 'PC', 'PC', '3DS', 'PS4', 'PS4', 'PC', 'XOne', 'XOne', 'PC', 'PS4', 'PS4', 'PC', 'PC', 'NS', 'PS3', 'PC', 'WiiU', 'NS', 'NS', 'WiiU', 'PS4', 'PC', 'PC', 'PS3', 'PSN', 'PSN', 'PS4', 'PC', 'WiiU', 'PC', 'PC', 'PS4', 'PC', 'PC', 'OSX', 'OSX', 'OSX', 'PC', 'NS', 'XOne', 'PC', 'PC', 'XOne', 'PC', 'PC', 'PS4', 'XOne', 'PC', 'PS4', 'PC', 'PC', 'WiiU', 'NS', 'PC', 'PS4', 'PC', 'PC', 'PC', 'PC', 'NS', 'PC', 'PS4', 'XOne', 'XS', 'NS', 'PC', 'PC', 'PS4', 'XOne', 'PC', 'PC', 'PC', 'PC', 'PC', 'PC']\n",
      "['Series', 'Series', 'Series', 'Series', 'Series', 'Series', 'All', 'All', 'Wii', 'Series', 'All', 'Series', 'All', 'All', 'Wii', 'All', 'DS', 'Wii', 'X360', 'Wii', 'X360', 'All', 'All', 'All', 'PS4', 'X360', 'All', 'Wii', 'PS3', 'X360', 'All', '3DS', 'NS', 'Wii', 'X360', 'Wii', 'X360', 'XOne', 'NS', 'NS', 'XOne', 'WiiU', 'PC', 'PS4', 'Wii', 'WiiU', 'X360', 'WiiU', 'PS4', 'X360', 'XOne', 'XOne', 'PS4', 'PS4', 'PS3', 'WiiU', 'XOne', 'PS4', '3DS', 'Wii', 'PS4', 'PS3', 'WiiU', 'XOne', 'PSV', 'PS3', 'X360', 'XOne', 'X360', '3DS', 'PC', 'PSV', 'GBA', 'PS4', 'NS', 'Wii', 'PS3', 'PS3', 'X360', 'WiiU', 'PS3', 'All', 'Wii', 'Wii', 'PSV', '3DS', 'PS4', 'PS3', 'XOne', 'Wii', 'WiiU', 'PS4', 'XOne', '3DS', 'PSV', 'X360', 'X360', 'PSP', 'PS4', 'WiiU', '3DS', 'X360', 'XOne', 'PC', 'NS', 'PC', 'Wii', '3DS', 'PS4', 'X360', 'PS4', 'PS3', 'XOne', 'PS4', 'PS3', '3DS', 'WiiU', 'PSV', 'PC', 'PSP', 'PC', 'PSV', 'X360', 'WiiU', 'X360', 'X360', 'PS4', 'PS4', 'PS3', 'PSP', 'WiiU', 'XOne', 'PSV', 'WiiU', 'X360', 'X360', 'PS3', 'PSV', 'Wii', 'PS3', 'PS4', 'PSV', 'Wii', 'X360', 'XOne', 'PSV', 'WiiU', 'PS4', 'PS4', 'NS', 'PS3', 'NS', 'PSV', 'PS4', 'PSP', 'NS', 'PSV', 'PS4', 'PS4', 'PS4', 'PSV', 'PS3', 'PS4', 'PSV', 'NS', 'PSV', 'NS', 'NS', 'Wii', '3DS', 'PSV', 'Wii', 'Wii', 'Wii', 'NS', 'Wii', 'Wii', 'PSV', 'Wii', '3DS', 'Wii', 'OSX', 'Linux', 'PC', 'Wii', 'DS', '3DS', 'PS4', 'PC', 'X360', 'Wii', 'OSX', 'PC', 'X360', 'XOne', 'WiiU', 'XB', 'XOne', 'NS', 'PC']\n"
     ]
    },
    {
     "name": "stdout",
     "output_type": "stream",
     "text": [
      "['Series', 'Series', 'X360', 'NS', 'Series', 'Series', 'PC', 'Series', 'Series', 'WiiU', 'Series', 'NS', 'Wii', '3DS', 'NS', 'WiiU', 'PC', '3DS', '3DS', 'PS4', 'NS', 'WiiU', '3DS', 'Wii', 'PSP', 'PC', 'PC', 'WiiU', 'PC', 'NS', 'WiiU', 'X360', '3DS', 'PC', '3DS', 'PSP', 'WiiU', 'WiiU', 'PC', 'XB', '3DS', 'PS2', 'NS', 'NS', 'PS4', 'XOne', 'PS4', 'PS3', 'WiiU', 'NS', 'PS4', '3DS', 'PSN', 'PS2', 'PC', 'NS', 'PS4', 'PSN', 'PSP', 'NS', 'NS', 'NS', 'PC', 'XOne', 'PS4', 'PS4', 'NS', 'NS', 'NS', 'X360', 'PS4', 'PS4', 'NS', 'NS', 'WiiU', 'PS4', 'NS', 'WiiU', 'NS', 'PS5', 'XS', 'PS', 'NS', 'PS4', 'NS', 'WiiU', 'PS', 'NS', 'PS4', 'PC', 'NS', 'NS', 'NS', 'NS', 'NS', 'NS', 'PC', 'PS4', 'PS4', 'NS', 'WiiU', 'WiiU']\n",
      "['Series', 'Series', 'Series', 'Series', 'NES', 'Series', 'Series', 'DS', 'Wii', 'All', 'Series', 'Series', 'SNES', 'Series', 'NS', 'GB', 'NES', 'Series', 'GEN', 'PC', '3DS', 'Wii', '3DS', 'Series', 'N64', 'GB', 'DS', 'SNES', 'All', 'Series', 'SNES', 'NS', 'NES', 'Wii', 'PS', 'Wii', 'All', 'GEN', 'GC', 'WiiU', 'WiiU', 'PS', 'Series', 'GBA', 'GBA', 'NS', 'GBA', 'PS2', 'N64', 'NS', 'GB', 'SNES', 'GB', 'GB', 'PS', 'PS4', 'All', 'PS3', '2600', 'PSP', 'Wii', 'Series', 'NES', 'SNES', 'PS', 'WiiU', 'GEN', 'GB', 'PSP', 'PS', '3DS', 'N64', 'PS2', 'PC', 'PS', 'PS', 'SNES', 'PS3', 'DS', 'PS2', 'All', 'PS2', 'GB', 'X360', 'PS', 'Wii', 'Wii', 'DS', 'DS', 'PC', 'NS', '3DS', 'N64', 'GBA', 'GBA', 'PC', 'PS', 'PS2', 'PS2', 'All', 'NS', 'NES', 'PSP', '3DS', 'PS2', 'PS3', 'Series', 'All', 'PC', 'All', 'DC', 'PS4', 'GB', 'GB', 'NES', 'GBA', 'DS', 'GBA', 'Wii', 'GBA', 'GB', 'GBA', 'Wii', 'GBC', 'PS4', 'PS2', 'GBA', 'PS4', '3DS', 'WiiU', 'Series', 'PS2', 'PS3', 'PS2', 'DS', 'PS2', 'Wii', 'All', 'NS', 'GBA', 'GEN', 'PS2', 'GBA', 'Wii', 'Wii', 'SNES', 'N64', 'PC', 'PS2', 'NES', 'GEN', 'SNES', 'NES', 'GBA', 'PS', 'DS', 'NES', 'PS2', 'NES', 'PS', 'GC', 'Wii', 'PS3', '2600', 'GBA', 'NES', 'WiiU', 'X360', 'NES', 'DS', 'PS2', 'PS4', 'NES', 'NES', 'SCD', 'DS', 'N64', 'GB', 'GBA', 'GBA', 'DS', '2600', 'SNES', 'GB', 'GBA', 'GC', 'GBA', 'All', 'X360', 'PSV', 'GBA', 'X360', 'PS2', 'GC', 'PS2', 'GBA', 'PS2', '2600', 'All', 'GBA']\n",
      "['Series', 'Series', 'Series', 'GB', 'Series', 'Series', 'Series', 'Series', 'All', 'Series', 'Series', 'Series', '2600', 'Series', 'NES', 'GB', 'All', 'NES', 'GB', 'DS', 'GBA', 'DS', 'All', 'DS', 'PS', 'Wii', 'PC', 'DS', 'DS', 'PS2', 'DS', 'GB', 'GBC', 'NES', 'Wii', 'GBA', 'SNES', '2600', '2600', 'GB', 'DS', 'GC', '3DS', '3DS', 'DS', 'GC', 'NS', 'GBA', 'DS', 'WiiU', 'DS', 'NES', 'PC', 'PS', 'GB', 'GB', 'PS', 'NES', 'Wii', 'GB', 'PS', 'NES', 'PSP', 'PC', 'NES', 'GBA', 'Series', 'N64', 'NES', 'PS', 'NS', 'DS', 'NES', 'PC', 'DS', 'NS', 'PSP', 'PS', 'DS', 'NES', 'SNES', '3DS', 'PS', '2600', 'DS', 'DS', 'Wii', 'GBA', 'GB', 'PS2', 'PC', 'GBA', 'GC', 'PS3', 'SNES', 'PC', 'Wii', '3DS', '3DS', 'GB', 'SAT', '2600', 'DS', '2600', 'SNES', 'GBA', 'GBA', 'Wii', '3DS', 'PSP', '3DS', 'DS', 'DS', 'DS', 'PS2', 'DS', 'DS', 'DS', 'DS', 'PC', 'SNES', 'DS', 'PC', 'PS2', 'SNES', 'GBA', 'DS', 'Wii', 'PC', 'DS', 'DS', 'N64', 'PS', 'SNES', 'NES', '3DS', '2600', 'DS', 'DS', 'N64', 'NES', 'PS3', 'SNES', 'DS', 'WiiU', 'PC', '2600', 'DS', 'N64', 'GB', 'PC', 'PS', '3DS', 'PS2', 'DS', 'DS', 'PC', 'PS', 'DS', 'DS', 'PC', 'GBA', 'PS', 'PS', 'X360', 'GB', 'NES', '3DS', '3DS', 'X360', 'DS', 'DS', 'DS', 'PS', 'GBA', 'PSP', 'SNES', 'PC', 'PS3', 'Wii', 'PC', 'Amig', 'DS', 'N64', 'DS', 'Wii', 'DS', 'DS', 'DS', 'PS2', 'DS', 'X360', 'DS', 'GBA', 'Wii', 'DS', 'DS', 'SNES', 'DS', 'Wii']\n",
      "['Series', 'Series', 'Series', 'Wii', 'NS', 'DS', 'Series', '3DS', 'Series', 'All', 'Series', 'All', 'PS2', 'PS3', 'PS2', 'All', 'PS', 'Series', 'N64', 'PS', 'SNES', 'WiiU', 'Series', 'PS2', 'Series', 'PS2', 'GC', 'Series', 'Series', 'GBA', 'X360', 'All', 'PS3', 'PS3', 'All', 'All', 'N64', 'PS', 'PS2', 'PSP', 'X360', 'PS2', 'NES', 'X360', 'All', 'All', 'PS4', 'PSP', 'PS2', 'GB', 'PSP', 'PS', 'N64', 'PS3', 'Series', 'N64', 'PS', 'SNES', 'PSN', 'PS3', 'PS3', 'PS4', 'PS2', 'PS3', 'PS2', 'PS2', 'PS3', 'XOne', 'X360', 'PS', 'Series', 'PSP', 'PS2', 'PS2', 'XOne', 'X360', 'PS', 'XB', 'Series', 'X360', 'PS4', 'PS2', 'PS4', 'NES', 'XB', 'PS2', 'XB', 'PSP', 'PS', 'PS3', 'X360', 'PS3', 'X360', 'PS3', 'PS4', 'XBL', 'NES', 'PS2', 'PS3', 'X360', 'PS', 'PS2', 'X360', 'PS2', 'XOne', 'PS', 'DC', 'PS4', 'PS2', 'N64', 'XB', 'X360', 'XB', 'PS2', 'X360', 'PS', 'PS2', 'N64', 'DS', 'PS', 'PS2', 'PS2', 'X360', 'PS', 'NES', 'PS', 'XOne', 'PSP', 'PS2', 'Series', 'XOne', 'Wii', 'PSP', 'X360', 'PS2', 'PS2', 'PS2', 'PS2', 'PS2', 'PS3', 'X360', 'All', 'X360', 'GC', 'XB', 'PS2', 'PS3', 'PS2', 'PS2', 'PSP', 'PS', 'PS', 'PS2', 'XB', 'PS', 'PS2', 'PS4', 'Wii', 'PS', 'PS', 'PS3', 'X360', 'DS', 'PS', 'PS2', 'PS3', 'PS2', 'PS', 'PS2', 'PS2', 'GC', 'PSP', 'PS', 'PS2', 'PS3', 'GBA', 'PS', '2600', 'PS', 'PS', 'PS2', 'PS2', 'SAT', 'PS', 'GB', 'GC', 'GBA', 'PS3', 'PS2', 'PSV', 'PS2', 'Wii', 'N64', 'X360', 'PS3', 'PS2', 'All', 'PS', 'PS', 'PS2']\n",
      "['Series', 'Series', 'Series', 'Series', 'Series', 'Series', 'Series', 'Series', 'Series', 'Series', 'GB', 'All', 'All', 'All', 'Series', 'Series', 'GB', 'All', 'Series', 'NS', 'DS', 'Series', '3DS', 'All', 'GBA', '3DS', 'All', 'DS', 'Series', 'All', 'GB', '3DS', 'Series', 'Series', 'Series', 'DS', 'All', 'Series', 'NS', 'PC', 'Series', 'PC', 'GBA', 'PS4', 'All', 'PS', 'Series', 'All', 'All', '3DS', 'X360', 'PS', 'PS2', 'DS', 'PS4', 'All', 'All', 'Series', 'All', 'All', 'DS', 'Series', '3DS', 'Series', 'Series', 'GBA', 'PC', 'Series', 'PC', 'All', 'PC', 'PS3', 'PS2', 'GBC', 'PS2', 'Series', 'All', 'All', 'Series', 'All', 'DS', 'Series', 'PS', 'PS2', 'Series', 'PS3', 'PC', 'PS2', 'X360', 'PS4', 'XOne', 'PS4', 'All', 'Series', 'All', 'X360', 'PS2', 'PSP', 'DS', 'All', 'DS', 'All', 'Series', 'X360', 'PS', 'XOne', 'Series', '3DS', 'Series', '3DS', 'X360', 'All', 'PC', 'Series', 'All', 'PS3', 'PC', 'Series', 'All', 'NES', 'All', 'All', 'PSP', 'PC', 'X360', 'All', 'DS', 'PS4', 'All', 'PC', 'PC', 'Series', 'Series', 'NES', 'SNES', 'Series', 'PS3', 'PS3', 'Series', 'X360', 'X360', '3DS', 'XB', 'All', 'Series', 'PC', '3DS', 'DS', 'X360', 'SNES', 'All', 'NS', 'XB', 'PS4', 'SNES', 'Series', 'PS3', '3DS', '3DS', 'PS4', 'PC', 'X360', 'X360', 'PSP', 'PC', 'NES', 'PS', 'PC', 'PS4', '3DS', 'GC', 'SNES', 'PSP', '3DS', 'GBA', 'GB', 'DS', 'PS4', '3DS', 'SNES', 'DS', 'PC', '3DS', 'PC', 'PC', 'All', 'Series', 'X360', 'XB', 'GB', 'DS', 'GBA', 'SNES', 'All', 'Series', 'NS', 'PS3', 'PS4', 'PC', 'PS4']\n",
      "['Series', 'Series', 'Series', 'NS', 'XBL', 'PC', 'PC', 'PC', 'PC', 'PC', 'XOne', 'PC', 'NS', 'PS4', 'XOne', 'PC', 'PS4', 'XOne']\n",
      "['Series', 'Series', 'Series', 'All', 'Series', 'Series', 'Series', 'Series', 'Series', 'Series', 'PC', 'Series', 'PC', 'Series', 'Series', 'Series', 'Series', 'NES', 'Series', 'All', 'Series', 'All', 'All', 'Series', 'All', 'Series', 'PS4', 'PC', 'All', 'Series', 'X360', 'X360', 'X360', 'All', 'X360', 'PS3', 'X360', 'PS4', 'PS3', 'PC', 'All', 'PS3', 'PC', 'Series', 'Series', 'Series', 'NS', 'All', 'PS3', 'All', 'X360', 'Series', 'PS3', 'Series', 'All', 'All', 'All', 'Series', 'Series', 'All', 'All', 'X360', 'PC', 'X360', 'X360', 'PS4', 'PC', 'All', 'Series', 'All', 'PS4', 'N64', 'PS4', 'XB', 'Series', 'PS4', 'Series', 'X360', 'XOne', 'X360', 'All', 'PS4', 'PS3', 'PS2', 'PS3', 'Series', 'XOne', 'Series', 'All', 'Wii', 'PS4', 'PS3', 'XOne', 'PS2', 'XOne', 'X360', 'X360', 'XOne', 'XB', 'All', 'WiiU', 'XOne', 'XOne', 'PC', 'PC', 'PS4', 'PS4', 'PC', 'All', 'PS4', 'PS3', 'PS4', 'X360', '2600', 'PS3', 'PS4', 'XOne', 'PS4', 'PS4', 'PC', 'All', 'All', 'N64', 'All', 'X360', 'PS4', 'PC', 'PS2', 'PS3', 'PS2', 'PC', 'PS2', 'X360', 'PS2', 'X360', 'X360', 'X360', 'XOne', 'XOne', 'XOne', 'PS2', 'PS2', 'PC', 'PS3', 'PS', 'PS4', 'XOne', 'XOne', 'X360', 'PS3', 'All', 'PC', 'X360', 'X360', 'SNES', 'X360', 'PS3', 'PS2', 'PS4', 'PC', 'All', 'PS2', 'PS', 'Series', 'GC', 'X360', 'PS3', 'PS3', '2600', 'PC', 'XOne', 'XOne', 'Series', 'X360', 'PS2', 'PS', 'PSP', 'X360', 'XOne', '2600', 'N64', 'PC', 'All', 'PC', 'PS3', 'All', 'X360', 'X360', 'All', 'XOne', 'PS2', 'PS2', 'PS3', 'PC', 'Wii', 'PS4', 'All', 'X360', 'PS4', 'XOne']\n",
      "['Series', 'Series', 'Series', 'NS', 'Series', 'DS', 'Series', 'Series', 'Series', 'Series', 'Series', 'All', '3DS', 'Series', 'DS', 'Series', 'Series', 'Series', 'All', 'PC', '3DS', 'Series', 'PC', 'PC', 'DS', 'PC', 'PC', '3DS', 'Wii', 'PC', 'Series', 'PC', 'DS', 'N64', 'DS', '3DS', 'PC', 'PC', 'DS', 'Wii', 'DS', 'PC', 'DS', 'PS2', 'PC', 'PS2', 'PS2', 'Series', 'X360', 'PC', 'GC', 'PS', 'PS2', 'N64', 'PC', 'PC', 'PS2', 'Wii', 'DS', 'PS3', 'PC', 'PC', 'SNES', 'PC', 'GC', 'PC', 'N64', 'PC', 'PS2', 'PS2', 'PS2', 'PS2', 'PS2', 'DS', 'PC', 'DS', 'PC', 'PC', 'Wii', 'X360', 'Wii', 'DS', 'Wii', 'DS', 'DS', 'Wii', 'GB', 'GB', '3DS', '3DS', 'PS4', 'X360', 'PSP', 'PS', 'GBA', 'PC', 'DS', 'DS', 'PC', 'PS', 'PC', 'Wii', 'PC', 'PS', 'PS', 'PS', 'PC', 'PS2', 'SNES', 'PS2', 'XB', 'N64', 'DS', 'PS', 'PS', 'DS', 'DS', 'DS', 'All', 'DS', 'DS', 'PS2', 'PS', 'DS', 'DS', 'PS3', 'PC', 'PC', 'PS', 'All', 'All', 'All', 'PC', 'PC', 'PC', 'PS', 'PC', 'Series', 'X360', 'DS', 'PS', '3DS', 'PC', '3DS', 'DS', 'DS', 'PS2', 'PC', 'SNES', 'XB', 'Wii', 'Wii', 'PS4', 'DS', 'Wii', 'Wii', 'DS', 'PC', 'PC', 'PS2', 'PC', 'GC', 'PSP', 'PC', 'PSP', 'PS', 'PS2', 'PS2', 'PS2', '3DS', 'DS', 'PC', 'PS2', 'Wii', 'XOne', 'DS', 'DS', 'PS2', 'DS', 'PC', 'PS2', 'PC', 'DS', 'All', 'DS', 'PS3', 'DS', 'PS2', 'DS', 'PS3', 'PC', 'GC', 'DS', 'DS', 'PC', 'GBA', '3DS', 'GBA', 'Wii', 'DS']\n"
     ]
    },
    {
     "name": "stdout",
     "output_type": "stream",
     "text": [
      "['Series', 'Series', 'Series', 'Series', 'Series', 'Wii', 'Series', 'Wii', 'Series', 'All', 'Series', 'Series', 'Wii', 'Series', 'Wii', 'All', 'All', 'Series', 'Series', 'Series', 'All', 'Series', 'All', 'All', 'PS4', 'PS4', 'Series', 'All', 'All', 'All', 'All', 'Series', 'PS4', 'All', 'PS4', 'PS3', 'Series', 'All', 'All', 'All', 'All', 'PS3', 'PS3', 'All', 'PS4', 'Series', 'All', 'PS2', 'X360', 'DS', 'PS3', 'PS', 'All', 'All', 'All', 'Series', 'PS2', 'PS', 'PS3', 'Wii', 'PS2', 'All', 'All', 'All', 'PS2', 'PS2', 'PS2', 'Series', 'X360', 'X360', 'PS2', 'PS2', 'PS2', 'NES', 'All', 'All', 'All', 'PS4', 'Wii', 'PS2', 'PS3', 'PS2', 'XOne', 'PS2', 'PS2', 'PS2', 'PS3', 'PS4', 'X360', 'All', 'All', 'PS2', 'DS', 'PS4', 'PS2', 'Series', 'PS4', 'PS4', 'PS4', 'XOne', 'NES', 'PS2', 'XOne', 'X360', 'PS2', 'NES', 'NS', 'X360', 'All', 'All', 'Series', 'PS2', 'X360', 'X360', 'All', 'X360', 'PS2', 'Wii', 'X360', 'PS2', 'PS', 'PS2', 'PS3', 'X360', 'PS2', 'X360', 'X360', 'X360', 'PS3', 'PS4', 'PS2', 'PS4', 'X360', 'Wii', 'PS3', 'PS2', 'PS2', 'X360', 'PS', 'PS3', 'X360', 'PS2', 'PS4', 'XOne', 'XOne', 'NES', 'PS3', 'XOne', 'PS3', 'X360', 'Wii', 'X360', 'PS2', 'PS3', 'X360', 'X360', 'Wii', 'Wii', 'N64', 'PS', 'PS3', 'PS2', 'PC', 'PS3', 'PS', 'PS4', 'XOne', 'PS3', 'PS4', 'NES', 'All', 'XOne', 'PS3', 'NES', 'Wii', 'NES', 'Wii', 'PS3', 'GB', 'X360', 'N64', 'PS3', 'PS', 'X360', 'GEN', 'NES', 'PS3', 'XOne', 'PS3', 'N64', 'DS', 'PS2', 'PS4', 'XOne', 'Wii', 'All', 'All', 'All', 'X360', 'GB']\n",
      "['Series', 'Series', 'Series', 'Series', 'Series', 'Series', 'PC', 'Series', 'PC', 'Series', 'PC', 'Series', 'Series', 'PC', 'All', 'N64', 'PS', 'Series', 'PC', 'Series', 'PC', 'Series', 'PC', 'GB', 'Series', 'All', 'All', 'PC', 'PC', 'NS', 'N64', 'PC', 'PC', 'PC', 'PC', 'PC', 'PC', 'PC', 'GBA', 'PC', 'PC', 'PC', 'PC', 'PC', 'PC', 'PC', 'PC', 'GB', 'GC', 'PC', 'All', 'PC', 'DS', 'PC', 'PC', 'N64', 'PC', 'PC', 'PC', 'DS', 'WiiU', 'PC', 'PC', 'PC', 'PC', 'GC', 'DS', 'PC', 'PC', 'GB', 'PS', 'PC', 'All', 'PC', 'PC', 'PC', 'PC', 'PC', 'Series', 'X360', 'PC', 'PC', 'DS', 'GBA', 'PC', 'PS2', 'X360', 'GBA', 'GB', 'PSP', 'PC', 'PC', 'X360', 'PC', 'DS', 'PS', 'PSP', 'PC', 'PS3', 'PS', 'PSP', 'PC', 'PC', 'PC', 'XB', 'PC', 'PS', 'GC', 'PC', 'PS', 'PC', 'GBA', 'SNES', 'PS3', 'PC', 'PC', 'PS2', 'GBA', 'PS2', 'Wii', 'PS2', 'PC', 'PS', 'SNES', 'DS', 'PS', 'DS', 'DS', 'Wii', 'PC', 'SNES', 'PS2', 'PC', 'PS3', 'SNES', 'PS', 'PC', 'PS', 'PC', 'PS2', 'PC', 'GBA', 'PS', 'PC', 'PS', 'PC', 'SAT', 'PC', 'PS2', 'SNES', 'PS', 'PS', 'XOne', 'PC', 'PS', 'PS3', 'PS2', 'PS2', 'Wii', 'PC', 'PS2', 'PC', 'PC', 'PS2', 'PC', 'X360', 'PSP', 'DS', 'PS2', 'PSP', 'PC', 'Wii', 'PSP', 'X360', 'PS2', 'PSP', 'PS', 'PS2', 'PC', 'PS', 'GC', 'PS', 'PS2', 'PC', '3DS', 'DS', 'PS2', 'PS', 'PS2', 'SNES', 'PC', 'PC', 'SNES', 'GB', 'PC', 'PC', 'PC', 'PSP', 'GBA', 'PC']\n",
      "['PC', 'PC', 'PC', 'PC', 'PC', 'PC', 'PC', 'PC', 'PSP', 'PC', 'PC', 'PC', 'PS3', 'PS4', 'PC', 'PC', 'PS4', 'PC', 'PSV', 'PC', 'PC', 'PC', 'PS3', 'PSV', 'PSP', 'PSV', 'X360', 'PSP', 'PSV', 'PS4', 'PSP', 'PS2', 'PS3', 'PS3', 'PS3', 'X360', 'PSP', 'PSV', 'PSP', 'PSP', 'PSP', 'PSV', 'PS3', 'PSP', 'PSP', 'PSP', 'PSV', 'PSV', 'PSV', 'PS3', 'PS3', 'PS3', 'PSV', 'PSV', 'PSP', 'PS3', 'PS3', 'PSV', 'PSP', 'PSP', 'PSP', 'PSV', 'PSP', 'PS3', 'PSP', 'PSP', 'PSV', 'PSP', 'PSP', 'PSV', '3DS', 'PSP', 'PSP', 'PSV', '3DS', 'PS4', 'PSV', 'PS3', 'PSP', 'PSP', 'PSP', 'PSV', 'PSP', 'PS3', 'PSP', 'PS4', 'PS3', 'PS4', 'PS4', 'PSV', 'PSV', 'PSP', 'PSP', 'PSP', 'PSV', 'PSV', 'PSV', 'PS3', 'PSP', 'PSV', 'PSV', 'PSP', 'X360', 'PS3', 'PSP', 'PSP', 'PSP', 'PSV', 'PSV', 'PS3', 'NS', 'PS4', 'PSV', 'PSP', 'PSP', 'PSP', 'PSP', 'PS3', 'PSP', '3DS', 'X360', 'PSP', 'PSP', 'PSP', 'PSP', 'PSP', 'PSV', 'PS3', 'NS', 'PSP', 'PSP', 'PS4', 'XOne', 'PSV', 'PSV', 'PSP', 'PSV', 'PSP', 'PS3', 'PSP', 'PSP', 'PS4', 'PSP', 'PSP', 'X360', 'PSV', 'PSP', 'PSP', 'PSV', 'PSV', 'PSP', 'PSP', 'PSP', 'PSP', 'PSP', 'X360', 'PSV', 'PSV', 'PSV', 'PSV', 'PS2', 'PSV', 'PSV', 'PSV', 'X360', 'DS', 'X360', 'DS', 'PSV', 'PS4', 'PSV', 'PS3', 'PSP', 'PSP', 'PSV', 'PSP', 'PSP', 'PSP', 'PS3', 'PSP', 'PSP', 'PS4', '3DS', 'PSV', 'PSV', 'PSP', 'PSP', 'PSV', 'PSV', 'PSV', 'PSV', 'PSV', 'PS4', 'PSV', 'X360', 'PS4', 'PSP', 'PSV', 'PSP', 'PSV']\n"
     ]
    }
   ],
   "source": [
    "# Loop and scrape games info for each genre\n",
    "for genre in genre_list:\n",
    "    \n",
    "    # Variable to hold page numbers\n",
    "    page_num = 1\n",
    "    \n",
    "    # Variable to hold if page exists\n",
    "    page_exist = False\n",
    "    \n",
    "    # Build URL to be scraped\n",
    "    url_base = \"https://www.vgchartz.com/games/games.php?\"\n",
    "    url_dyn = f\"page={page_num}&results=200&genre={genre.replace(' ', '%20')}\"\n",
    "    url_tail = \"&order=Sales&ownership=Both&direction=DESC\"\n",
    "    url_tail += \"&showtotalsales=1&shownasales=1&showpalsales=1\"\n",
    "    url_tail += \"&showjapansales=1&showothersales=1&showpublisher=1\"\n",
    "    url_tail += \"&showdeveloper=1&showreleasedate=1&showlastupdate=1\"\n",
    "    url_tail += \"&showvgchartzscore=1&showcriticscore=1&showuserscore=1\"\n",
    "    url_tail += \"&showshipped=1\"\n",
    "    \n",
    "    url = url_base + url_dyn + url_tail\n",
    "    \n",
    "    # Open webpage\n",
    "    browser.visit(url)\n",
    "    \n",
    "    # Retrieve HTML webpage source\n",
    "    html = browser.html\n",
    "    \n",
    "    # Parse HTML webpage source using BeautifulSoup\n",
    "    soup = BeautifulSoup(html, 'html.parser')\n",
    "    \n",
    "    # Logic to check if the page exists\n",
    "    soup_div = soup.find(\"div\", id=\"generalBody\")\n",
    "    page_anchors = soup_div.find(\"tr\").find_all(\"th\")[1].find_all(\"a\")\n",
    "    for a in page_anchors:\n",
    "        if(a.text.find(str(page_num)) > 0):\n",
    "            page_exist = True\n",
    "\n",
    "    while(page_exist):\n",
    "        url_dyn = f\"page={page_num}&results=200&genre={genre.replace(' ', '%20')}\"\n",
    "        url = url_base + url_dyn + url_tail\n",
    "        \n",
    "        # Open webpage\n",
    "        browser.visit(url)\n",
    "    \n",
    "        time.sleep(2)\n",
    "        \n",
    "        # Retrieve HTML webpage source\n",
    "        html = browser.html\n",
    "        \n",
    "        # Parse HTML webpage source using BeautifulSoup\n",
    "        soup = BeautifulSoup(html, 'html.parser')\n",
    "        \n",
    "        # Scrape the game info into Dataframe\n",
    "        result = soup.find('div', id='generalBody')\n",
    "        html_string = result.prettify()\n",
    "        tbody_start_index = html_string.find(\"<tbody>\\n   <tr>\")\n",
    "        tbody_end_index = html_string.find('<tr>\\n    <th style=\"background-image:url(')\n",
    "        html_string_start = html_string[0:tbody_start_index + 11]\n",
    "        html_string_end = html_string[tbody_end_index:]\n",
    "        new_html_string = html_string_start + html_string_end\n",
    "        dfs = pd.read_html(new_html_string)\n",
    "        df = dfs[0]\n",
    "        \n",
    "        # Add Genre Column\n",
    "        df['Genre'] = genre\n",
    "        \n",
    "        # Scrape the console info into a list\n",
    "        console_list = []\n",
    "        all_trs = result.find('table').find_all('tr')\n",
    "        tr_count = 0\n",
    "        for tr in all_trs:\n",
    "            # Skip first 3 TR tags\n",
    "            if tr_count > 2:\n",
    "                console_list.append(tr.find_all(\"td\")[3].find('img').attrs['alt'])\n",
    "            tr_count += 1;\n",
    "        print(console_list)\n",
    "        \n",
    "        page_exist = False"
   ]
  },
  {
   "cell_type": "code",
   "execution_count": null,
   "metadata": {},
   "outputs": [],
   "source": []
  }
 ],
 "metadata": {
  "kernelspec": {
   "display_name": "Python [conda env:PythonData] *",
   "language": "python",
   "name": "conda-env-PythonData-py"
  },
  "language_info": {
   "codemirror_mode": {
    "name": "ipython",
    "version": 3
   },
   "file_extension": ".py",
   "mimetype": "text/x-python",
   "name": "python",
   "nbconvert_exporter": "python",
   "pygments_lexer": "ipython3",
   "version": "3.6.10"
  }
 },
 "nbformat": 4,
 "nbformat_minor": 4
}
